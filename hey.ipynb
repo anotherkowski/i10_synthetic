{
 "cells": [
  {
   "cell_type": "markdown",
   "metadata": {},
   "source": [
    "Oh! Hello there!"
   ]
  },
  {
   "cell_type": "markdown",
   "metadata": {},
   "source": [
    "#### Navigation\n",
    "1. [Start Here](hey.ipynb)\n",
    "1. [Load Data and Clean](/eda.ipynb)\n",
    "1. [To Clean, or Not To Clean?](eval_v1.ipynb)\n",
    "1. Generate Datasets\n",
    "    1. [Faker Naive](faker_naive.ipynb)\n",
    "    1. [Faker Plus](faker_plus.ipynb)\n",
    "    1. [SDV Naive](sdv_v1.ipynb)\n",
    "    1. [SDV More Better](sdv_v2.ipynb)\n",
    "    1. [SDV TVAE]()\n",
    "1. Compare and Evaluate Performance\n",
    "    1. [First impressions](eval_v2.ipynb)\n",
    "    1. [Loan financial models](eval_v3.ipynb)\n",
    "    1. [Predicting default risk](eval_v4.ipynb)\n",
    "    1. [How hackable]()"
   ]
  }
 ],
 "metadata": {
  "kernelspec": {
   "display_name": "Python 3",
   "language": "python",
   "name": "python3"
  },
  "language_info": {
   "codemirror_mode": {
    "name": "ipython",
    "version": 3
   },
   "file_extension": ".py",
   "mimetype": "text/x-python",
   "name": "python",
   "nbconvert_exporter": "python",
   "pygments_lexer": "ipython3",
   "version": "3.12.3"
  }
 },
 "nbformat": 4,
 "nbformat_minor": 2
}
